{
 "cells": [
  {
   "cell_type": "code",
   "execution_count": 1,
   "metadata": {},
   "outputs": [
    {
     "name": "stdout",
     "output_type": "stream",
     "text": [
      "1 2\n"
     ]
    }
   ],
   "source": [
    "n=int(input())\n",
    "res=0\n",
    "for i in range(n):\n",
    "    s,w=list(map(int,input().split(\" \")))\n",
    "    res+=s*w\n",
    "if res<0:res=0\n",
    "print(res)"
   ]
  }
 ],
 "metadata": {
  "kernelspec": {
   "display_name": "Python 3.10.4 64-bit",
   "language": "python",
   "name": "python3"
  },
  "language_info": {
   "codemirror_mode": {
    "name": "ipython",
    "version": 3
   },
   "file_extension": ".py",
   "mimetype": "text/x-python",
   "name": "python",
   "nbconvert_exporter": "python",
   "pygments_lexer": "ipython3",
   "version": "3.10.4"
  },
  "orig_nbformat": 4,
  "vscode": {
   "interpreter": {
    "hash": "38466d9810db9ba864eb70591a184bcd86ce8ae48728be4aa03eee6a39bd0ede"
   }
  }
 },
 "nbformat": 4,
 "nbformat_minor": 2
}
