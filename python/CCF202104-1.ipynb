{
 "cells": [
  {
   "cell_type": "code",
   "execution_count": null,
   "metadata": {},
   "outputs": [],
   "source": [
    "n,m,L=list(map(int,input().split(\" \")))#n行m列像素的最大取值为L\n",
    "a=[]\n",
    "for i in range(n):\n",
    "    a.append(list(map(int,input().split(\" \"))))\n",
    "res=[0]*L\n",
    "for i in a:\n",
    "    for j in i:\n",
    "        res[j]+=1\n",
    "for i in res:\n",
    "    print(i,end=\" \")"
   ]
  }
 ],
 "metadata": {
  "language_info": {
   "name": "python"
  },
  "orig_nbformat": 4
 },
 "nbformat": 4,
 "nbformat_minor": 2
}
