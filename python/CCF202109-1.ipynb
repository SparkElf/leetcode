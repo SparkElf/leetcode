{
 "cells": [
  {
   "cell_type": "code",
   "execution_count": null,
   "metadata": {},
   "outputs": [],
   "source": [
    "n=int(input())\n",
    "a=list(map(int,input().split(\" \")))\n",
    "s=set()\n",
    "resMax=0\n",
    "resMin=0\n",
    "for i in a:\n",
    "    s.add(i)\n",
    "    resMax+=i\n",
    "for i in s:\n",
    "    resMin+=i\n",
    "print(resMax)\n",
    "print(resMin)\n"
   ]
  }
 ],
 "metadata": {
  "language_info": {
   "name": "python"
  },
  "orig_nbformat": 4
 },
 "nbformat": 4,
 "nbformat_minor": 2
}
