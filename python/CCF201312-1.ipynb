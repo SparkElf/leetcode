{
 "cells": [
  {
   "cell_type": "code",
   "execution_count": 11,
   "metadata": {},
   "outputs": [
    {
     "name": "stdout",
     "output_type": "stream",
     "text": [
      "1\n"
     ]
    }
   ],
   "source": [
    "file=open('in.txt','r')\n",
    "input=file.readline\n",
    "h={}\n",
    "n=int(input())\n",
    "a=list(map(int,input().split(\" \")))\n",
    "\n",
    "for i in a:\n",
    "    if i not in h:\n",
    "        h[i]=1\n",
    "    else:h[i]+=1\n",
    "res=list(h.items())\n",
    "res.sort(key=lambda x:(-x[1],x[0]))\n",
    "print(res[0][0])"
   ]
  }
 ],
 "metadata": {
  "kernelspec": {
   "display_name": "Python 3.10.4 64-bit",
   "language": "python",
   "name": "python3"
  },
  "language_info": {
   "codemirror_mode": {
    "name": "ipython",
    "version": 3
   },
   "file_extension": ".py",
   "mimetype": "text/x-python",
   "name": "python",
   "nbconvert_exporter": "python",
   "pygments_lexer": "ipython3",
   "version": "3.10.4"
  },
  "orig_nbformat": 4,
  "vscode": {
   "interpreter": {
    "hash": "38466d9810db9ba864eb70591a184bcd86ce8ae48728be4aa03eee6a39bd0ede"
   }
  }
 },
 "nbformat": 4,
 "nbformat_minor": 2
}
