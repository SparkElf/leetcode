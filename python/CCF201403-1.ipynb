{
 "cells": [
  {
   "cell_type": "code",
   "execution_count": null,
   "metadata": {},
   "outputs": [],
   "source": [
    "s=set()\n",
    "n=int(input())\n",
    "a=list(map(int,input().split(\" \")))\n",
    "ans=0\n",
    "for i in a:\n",
    "    if -i in s:ans+=1\n",
    "    s.add(i)\n",
    "print(ans)"
   ]
  }
 ],
 "metadata": {
  "language_info": {
   "name": "python"
  },
  "orig_nbformat": 4
 },
 "nbformat": 4,
 "nbformat_minor": 2
}
