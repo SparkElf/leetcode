{
 "cells": [
  {
   "cell_type": "code",
   "execution_count": null,
   "metadata": {},
   "outputs": [],
   "source": [
    "def line():\n",
    "    return list(map(int,input().split(\" \")))\n",
    "r,y,g=line()\n",
    "n=int(input())\n",
    "res=0\n",
    "for i in range(n):\n",
    "    k,t=line()\n",
    "    if k==0 or k==1:res+=t\n",
    "    elif  k==2:\n",
    "        res+=t+r\n",
    "print(res)"
   ]
  }
 ],
 "metadata": {
  "language_info": {
   "name": "python"
  },
  "orig_nbformat": 4
 },
 "nbformat": 4,
 "nbformat_minor": 2
}
