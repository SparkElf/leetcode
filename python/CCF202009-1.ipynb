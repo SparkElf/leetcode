{
 "cells": [
  {
   "cell_type": "code",
   "execution_count": 18,
   "metadata": {},
   "outputs": [
    {
     "name": "stdout",
     "output_type": "stream",
     "text": [
      "2\n",
      "4\n",
      "1\n"
     ]
    }
   ],
   "source": [
    "file=open('in.txt','r')\n",
    "input=file.readline\n",
    "n,X,Y=list(map(int,input().split(\" \")))\n",
    "res=[]\n",
    "\n",
    "for i in range(n):\n",
    "    x,y=list(map(int,input().split(\" \")))\n",
    "    d=(X-x)**2+(Y-y)**2\n",
    "    res.append((d,i+1))\n",
    "\n",
    "res.sort()\n",
    "for i in range(3):\n",
    "    print(res[i][1])\n"
   ]
  }
 ],
 "metadata": {
  "kernelspec": {
   "display_name": "Python 3.10.4 64-bit",
   "language": "python",
   "name": "python3"
  },
  "language_info": {
   "codemirror_mode": {
    "name": "ipython",
    "version": 3
   },
   "file_extension": ".py",
   "mimetype": "text/x-python",
   "name": "python",
   "nbconvert_exporter": "python",
   "pygments_lexer": "ipython3",
   "version": "3.10.4"
  },
  "orig_nbformat": 4,
  "vscode": {
   "interpreter": {
    "hash": "38466d9810db9ba864eb70591a184bcd86ce8ae48728be4aa03eee6a39bd0ede"
   }
  }
 },
 "nbformat": 4,
 "nbformat_minor": 2
}
